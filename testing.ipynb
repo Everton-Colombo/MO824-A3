{
 "cells": [
  {
   "cell_type": "code",
   "execution_count": 2,
   "id": "450afae1",
   "metadata": {},
   "outputs": [],
   "source": [
    "import math\n",
    "import numpy as np\n",
    "from scqbf.scqbf_instance import *\n",
    "from scqbf.scqbf_evaluator import *\n",
    "import random\n",
    "import time"
   ]
  },
  {
   "cell_type": "code",
   "execution_count": null,
   "id": "79bfeeb2",
   "metadata": {},
   "outputs": [],
   "source": [
    "class ScQbfTS():\n",
    "    \n",
    "    def __init__(self, instance: ScQbfInstance, tenure: int, max_iter: int = None, time_limit_secs: int = None):\n",
    "        self.instance = instance\n",
    "        self.evaluator = ScQbfEvaluator(instance)\n",
    "        self.tenure = tenure\n",
    "        self.max_iter = max_iter\n",
    "        self.time_limit_secs = time_limit_secs\n",
    "    \n",
    "    def _solve_termination_condition(self, start_time: float, iter: int) -> bool:\n",
    "        \"\"\" Check if the termination condition is met.\"\"\"\n",
    "        \n",
    "        if self.max_iter is not None and iter >= self.max_iter:\n",
    "            return True\n",
    "        if self.time_limit_secs is not None and (time.time() - start_time) >= self.time_limit_secs:\n",
    "            return True\n",
    "        return False\n",
    "    \n",
    "    def solve(self) -> ScQbfSolution:\n",
    "        best_solution = self._constructive_heuristic()\n",
    "        best_solution_objfun_val = self.evaluator.evaluate_objfun(best_solution)\n",
    "\n",
    "        current_solution = best_solution\n",
    "        current_solution_objfun_val = best_solution_objfun_val\n",
    "        \n",
    "        start_time = time.time()\n",
    "        iter = 0\n",
    "        while not self._solve_termination_condition(start_time, iter):\n",
    "            current_solution = self._neighborhood_move(current_solution)\n",
    "            current_solution_objfun_val = self.evaluator.evaluate_objfun(current_solution)\n",
    "            \n",
    "            if current_solution_objfun_val > best_solution_objfun_val:\n",
    "                best_solution = current_solution\n",
    "                best_solution_objfun_val = current_solution_objfun_val\n",
    "            \n",
    "            iter += 1\n",
    "        \n",
    "        return best_solution, best_solution_objfun_val\n",
    "    \n",
    "    def _constructive_heuristic(self) -> ScQbfSolution:\n",
    "        pass\n",
    "    \n",
    "    def _neighborhood_move(self, solution: ScQbfSolution) -> ScQbfSolution:\n",
    "        pass\n",
    "    \n",
    "        "
   ]
  }
 ],
 "metadata": {
  "kernelspec": {
   "display_name": "Python 3",
   "language": "python",
   "name": "python3"
  },
  "language_info": {
   "codemirror_mode": {
    "name": "ipython",
    "version": 3
   },
   "file_extension": ".py",
   "mimetype": "text/x-python",
   "name": "python",
   "nbconvert_exporter": "python",
   "pygments_lexer": "ipython3",
   "version": "3.10.12"
  }
 },
 "nbformat": 4,
 "nbformat_minor": 5
}
